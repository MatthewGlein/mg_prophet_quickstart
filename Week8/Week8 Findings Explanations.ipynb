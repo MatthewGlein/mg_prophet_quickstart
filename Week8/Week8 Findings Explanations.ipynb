{
 "cells": [
  {
   "cell_type": "markdown",
   "metadata": {},
   "source": [
    "# Weekly Findings"
   ]
  },
  {
   "cell_type": "markdown",
   "metadata": {},
   "source": [
    "PR COUNT\n",
    "\n",
    "Most of the cryptos are sloping up in regard to prophets future predictions. There are a few outliers, though the slopes up are much more steep than the curves that have slightly downward projections.\n",
    "\n",
    "It seems like most of the PR counts peak during the middle of the week, around Wednesday"
   ]
  },
  {
   "cell_type": "markdown",
   "metadata": {},
   "source": [
    "COMMIT ADD SUM\n",
    "\n",
    "Most of the commit add sums have a flat projection, with a few crypto currencies having large spike \n",
    "    projections such as LSK.\n",
    "    \n",
    "For some reason the autocorrelation did not work for commit add sum as it did for the others."
   ]
  },
  {
   "cell_type": "markdown",
   "metadata": {},
   "source": [
    "ISSUES COUNT\n",
    "\n",
    "ADA stands out to me for issues count because it is volatile, but in an upward trend. Most of the \n",
    "    issue counts are volatile, but either stright or down sloping, while ADA's issue counts seem to be on the rise."
   ]
  },
  {
   "cell_type": "markdown",
   "metadata": {},
   "source": [
    "COMMIT DEL SUM\n",
    "\n",
    "XLM and EOS seem like they are both creeping up in commit del sums, and all of the \n",
    "    cryptos seem to be all over the week in the weekly analysis.\n",
    "    \n",
    "I noticed some similarities in some coins that seem to have an increasing number of \n",
    "    commit del sums, but this is probably caused by one point where it was high, which \n",
    "    may not reflect the actual future."
   ]
  },
  {
   "cell_type": "markdown",
   "metadata": {},
   "source": [
    "COMMIT COUNT\n",
    "\n",
    "There seems to be a trend that most of the cryptos have downward sloping future predictions in the category of commit counts. I don't know if this is because they are stopped being developed on, but it seems interesting.\n",
    "\n",
    "EOS and LSK are a few of the ones that actually have upward slopes.\n"
   ]
  },
  {
   "cell_type": "markdown",
   "metadata": {},
   "source": [
    "STAR COUNT\n",
    "\n",
    "STEEM, BTS, WAVES, EOS, ETH, and ZRX all have very promising upward slopes in the category of Star count.\n",
    "\n",
    "ADA seems to have fairly high overall correlations and on the PACF graph."
   ]
  },
  {
   "cell_type": "markdown",
   "metadata": {},
   "source": [
    "RETURN PCT\n",
    "\n",
    "There seems to be little pattern for this, and the dots are all over the graph, so it is difficult to determine much information.\n",
    "\n",
    "The PACF graphs seem to be varied as well for most cryptos."
   ]
  },
  {
   "cell_type": "markdown",
   "metadata": {},
   "source": [
    "VOLATILITY PCNT\n",
    "\n",
    "Most of the cryptos seem to have increasing volatility after hitting a trough.\n",
    "\n",
    "DRGN has a very off PACF graph, but the others seem fairly normal"
   ]
  },
  {
   "cell_type": "code",
   "execution_count": null,
   "metadata": {},
   "outputs": [],
   "source": []
  }
 ],
 "metadata": {
  "kernelspec": {
   "display_name": "Python 3",
   "language": "python",
   "name": "python3"
  },
  "language_info": {
   "codemirror_mode": {
    "name": "ipython",
    "version": 3
   },
   "file_extension": ".py",
   "mimetype": "text/x-python",
   "name": "python",
   "nbconvert_exporter": "python",
   "pygments_lexer": "ipython3",
   "version": "3.6.5"
  }
 },
 "nbformat": 4,
 "nbformat_minor": 2
}
