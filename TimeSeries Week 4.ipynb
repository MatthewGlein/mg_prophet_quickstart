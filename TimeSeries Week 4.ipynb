{
 "cells": [
  {
   "cell_type": "code",
   "execution_count": 2,
   "metadata": {},
   "outputs": [],
   "source": [
    "%matplotlib inline"
   ]
  },
  {
   "cell_type": "code",
   "execution_count": 3,
   "metadata": {},
   "outputs": [],
   "source": [
    "import os, sys"
   ]
  },
  {
   "cell_type": "code",
   "execution_count": 21,
   "metadata": {},
   "outputs": [],
   "source": [
    "import pandas as pd\n",
    "import numpy as np\n",
    "from fbprophet import Prophet\n",
    "import matplotlib.pyplot as plt\n",
    "from fbprophet.plot import add_changepoints_to_plot\n",
    "from datetime import timedelta"
   ]
  },
  {
   "cell_type": "code",
   "execution_count": 6,
   "metadata": {},
   "outputs": [],
   "source": [
    "import requests\n",
    "\n",
    "POLONIEX_OHLCV_BASEURL = 'https://poloniex.com/public?command=returnChartData&currencyPair='\n",
    "\n",
    "\"\"\"\n",
    "https://poloniex.com/public?command=returnChartData&currencyPair=BTC_POT&start=1435699200&end=9999999999&period=14400\n",
    "\n",
    "\"\"\"\n",
    "\n",
    "def get_ohlcv_poloniex(pair='BTC_ETH', start=1435699200, end=9999999999, period=900):\n",
    "    \"\"\"\n",
    "    returns ohlcv data for poloniex as pandas dataframe\n",
    "    convert to unix timestamp using https://coderstoolbox.net/unixtimestamp/\n",
    "    :param pair: str pair on poloniex\n",
    "    :param start: int unix timestamp of beginning time\n",
    "    :param end: int unix timestamp of ending time\n",
    "    :param period: int candle width in seconds\n",
    "    :return: pandas df of ohlcv data from poloniex for specified pair, times, and period\n",
    "    \"\"\"\n",
    "    query = POLONIEX_OHLCV_BASEURL + pair + '&start=' + str(start) + '&end=' + str(end) + '&period=' + str(period)\n",
    "    resp = requests.get(query,verify=False)\n",
    "\n",
    "    if resp.status_code != 200:\n",
    "        raise requests.ApiError('GET /tasks/ {}'.format(resp.status_code))\n",
    "\n",
    "    return pd.DataFrame(resp.json())"
   ]
  },
  {
   "cell_type": "code",
   "execution_count": 11,
   "metadata": {},
   "outputs": [
    {
     "name": "stderr",
     "output_type": "stream",
     "text": [
      "/anaconda3/lib/python3.6/site-packages/urllib3/connectionpool.py:858: InsecureRequestWarning: Unverified HTTPS request is being made. Adding certificate verification is strongly advised. See: https://urllib3.readthedocs.io/en/latest/advanced-usage.html#ssl-warnings\n",
      "  InsecureRequestWarning)\n"
     ]
    }
   ],
   "source": [
    "df = get_ohlcv_poloniex(pair='USDT_BTC', start=1483600958, end=9999999999, period=900)\n",
    "#no option to pass in 3600 sec candles\n",
    "df = df[df.index % 4 == 0]\n",
    "df['ds'] = pd.to_datetime(df['date'], unit='s')\n",
    "df['y'] = df['weightedAverage']\n",
    "df['logVolume'] = df['volume'].apply(np.log)"
   ]
  },
  {
   "cell_type": "code",
   "execution_count": 17,
   "metadata": {},
   "outputs": [
    {
     "data": {
      "text/html": [
       "<div>\n",
       "<style scoped>\n",
       "    .dataframe tbody tr th:only-of-type {\n",
       "        vertical-align: middle;\n",
       "    }\n",
       "\n",
       "    .dataframe tbody tr th {\n",
       "        vertical-align: top;\n",
       "    }\n",
       "\n",
       "    .dataframe thead th {\n",
       "        text-align: right;\n",
       "    }\n",
       "</style>\n",
       "<table border=\"1\" class=\"dataframe\">\n",
       "  <thead>\n",
       "    <tr style=\"text-align: right;\">\n",
       "      <th></th>\n",
       "      <th>close</th>\n",
       "      <th>date</th>\n",
       "      <th>high</th>\n",
       "      <th>low</th>\n",
       "      <th>open</th>\n",
       "      <th>quoteVolume</th>\n",
       "      <th>volume</th>\n",
       "      <th>weightedAverage</th>\n",
       "      <th>ds</th>\n",
       "      <th>y</th>\n",
       "      <th>logVolume</th>\n",
       "    </tr>\n",
       "  </thead>\n",
       "  <tbody>\n",
       "    <tr>\n",
       "      <th>0</th>\n",
       "      <td>1143.999999</td>\n",
       "      <td>1483601400</td>\n",
       "      <td>1145.000000</td>\n",
       "      <td>1135.0000</td>\n",
       "      <td>1137.02</td>\n",
       "      <td>9.170638</td>\n",
       "      <td>10475.203351</td>\n",
       "      <td>1142.254643</td>\n",
       "      <td>2017-01-05 07:30:00</td>\n",
       "      <td>1142.254643</td>\n",
       "      <td>9.256766</td>\n",
       "    </tr>\n",
       "    <tr>\n",
       "      <th>4</th>\n",
       "      <td>1136.000000</td>\n",
       "      <td>1483605000</td>\n",
       "      <td>1136.000000</td>\n",
       "      <td>1124.0180</td>\n",
       "      <td>1124.50</td>\n",
       "      <td>23.515077</td>\n",
       "      <td>26504.327610</td>\n",
       "      <td>1127.120601</td>\n",
       "      <td>2017-01-05 08:30:00</td>\n",
       "      <td>1127.120601</td>\n",
       "      <td>10.185063</td>\n",
       "    </tr>\n",
       "    <tr>\n",
       "      <th>8</th>\n",
       "      <td>1092.000000</td>\n",
       "      <td>1483608600</td>\n",
       "      <td>1099.232465</td>\n",
       "      <td>1055.2912</td>\n",
       "      <td>1085.00</td>\n",
       "      <td>229.543299</td>\n",
       "      <td>247051.025497</td>\n",
       "      <td>1076.271998</td>\n",
       "      <td>2017-01-05 09:30:00</td>\n",
       "      <td>1076.271998</td>\n",
       "      <td>12.417350</td>\n",
       "    </tr>\n",
       "    <tr>\n",
       "      <th>12</th>\n",
       "      <td>1086.000000</td>\n",
       "      <td>1483612200</td>\n",
       "      <td>1111.000000</td>\n",
       "      <td>1085.0000</td>\n",
       "      <td>1096.00</td>\n",
       "      <td>72.148022</td>\n",
       "      <td>79375.560627</td>\n",
       "      <td>1100.176535</td>\n",
       "      <td>2017-01-05 10:30:00</td>\n",
       "      <td>1100.176535</td>\n",
       "      <td>11.281946</td>\n",
       "    </tr>\n",
       "    <tr>\n",
       "      <th>16</th>\n",
       "      <td>1099.593509</td>\n",
       "      <td>1483615800</td>\n",
       "      <td>1100.000000</td>\n",
       "      <td>1087.0000</td>\n",
       "      <td>1087.00</td>\n",
       "      <td>20.601704</td>\n",
       "      <td>22609.130935</td>\n",
       "      <td>1097.439857</td>\n",
       "      <td>2017-01-05 11:30:00</td>\n",
       "      <td>1097.439857</td>\n",
       "      <td>10.026109</td>\n",
       "    </tr>\n",
       "  </tbody>\n",
       "</table>\n",
       "</div>"
      ],
      "text/plain": [
       "          close        date         high        low     open  quoteVolume  \\\n",
       "0   1143.999999  1483601400  1145.000000  1135.0000  1137.02     9.170638   \n",
       "4   1136.000000  1483605000  1136.000000  1124.0180  1124.50    23.515077   \n",
       "8   1092.000000  1483608600  1099.232465  1055.2912  1085.00   229.543299   \n",
       "12  1086.000000  1483612200  1111.000000  1085.0000  1096.00    72.148022   \n",
       "16  1099.593509  1483615800  1100.000000  1087.0000  1087.00    20.601704   \n",
       "\n",
       "           volume  weightedAverage                  ds            y  logVolume  \n",
       "0    10475.203351      1142.254643 2017-01-05 07:30:00  1142.254643   9.256766  \n",
       "4    26504.327610      1127.120601 2017-01-05 08:30:00  1127.120601  10.185063  \n",
       "8   247051.025497      1076.271998 2017-01-05 09:30:00  1076.271998  12.417350  \n",
       "12   79375.560627      1100.176535 2017-01-05 10:30:00  1100.176535  11.281946  \n",
       "16   22609.130935      1097.439857 2017-01-05 11:30:00  1097.439857  10.026109  "
      ]
     },
     "execution_count": 17,
     "metadata": {},
     "output_type": "execute_result"
    }
   ],
   "source": [
    "df.head()"
   ]
  },
  {
   "cell_type": "code",
   "execution_count": 8,
   "metadata": {},
   "outputs": [],
   "source": [
    "class StructuralBreakFeatures:\n",
    "    DEFAULT_FEATURES_TO_CALCULATE = []\n",
    "    DROP_COLUMNS = ['open', 'high', 'low']\n",
    "\n",
    "    def __init__(self,\n",
    "                 features_to_calculate=None,\n",
    "                 interval_size: timedelta=timedelta(days=1),\n",
    "                 drop_columns=None):\n",
    "        if features_to_calculate is None:\n",
    "            features_to_calculate = self.DEFAULT_FEATURES_TO_CALCULATE\n",
    "\n",
    "        if drop_columns is None:\n",
    "            drop_columns = self.DROP_COLUMNS\n",
    "\n",
    "        # Create feature generator and compute features\n",
    "        self.interval_type = 'time'\n",
    "        self.interval_size = interval_size\n",
    "        self.features_to_calculate = features_to_calculate\n",
    "        self.drop_columns = drop_columns\n",
    "\n",
    "    def get_feature_data(self, data_df):\n",
    "        \"\"\" Compute all features.\n",
    "        :param data_df:\n",
    "        :return:\n",
    "        \"\"\"\n",
    "        feature_generator = FeatureGenerator(self.interval_type,\n",
    "                                             self.interval_size,\n",
    "                                             self.features_to_calculate)\n",
    "        data_df_enriched = feature_generator.process_bulk_ticks(data_df)\n",
    "        data_df_enriched = data_df_enriched.drop(self.DROP_COLUMNS, axis=1)\n",
    "\n",
    "        return data_df_enriched"
   ]
  },
  {
   "cell_type": "code",
   "execution_count": 24,
   "metadata": {},
   "outputs": [],
   "source": [
    "sadf_features = StructuralBreakFeatures([\n",
    "    ('sadf_test', 2),     # 128 day lookback SADF\n",
    "    ('sadf_test', 4),     # 128 day lookback SADF\n",
    "    ('sadf_test', 8),     # 128 day lookback SADF\n",
    "    ('sadf_test', 16),     # 128 day lookback SADF\n",
    "    ('sadf_test', 32),     # 128 day lookback SADF\n",
    "    ('sadf_test', 64),     # 128 day lookback SADF\n",
    "    ('sadf_test', 128),     # 128 day lookback SADF\n",
    "    ('sadf_test', 256),     # 256 day lookback SADF\n",
    "    ('sadf_test', 512),     # 512 day lookback SADF\n",
    "    ('sadf_test', 1024),     # 512 day lookback SADF\n",
    "])"
   ]
  },
  {
   "cell_type": "code",
   "execution_count": 19,
   "metadata": {},
   "outputs": [
    {
     "ename": "NameError",
     "evalue": "name 'FeatureGenerator' is not defined",
     "output_type": "error",
     "traceback": [
      "\u001b[0;31m---------------------------------------------------------------------------\u001b[0m",
      "\u001b[0;31mNameError\u001b[0m                                 Traceback (most recent call last)",
      "\u001b[0;32m<ipython-input-19-8ea2c847159f>\u001b[0m in \u001b[0;36m<module>\u001b[0;34m()\u001b[0m\n\u001b[0;32m----> 1\u001b[0;31m \u001b[0msadf_enriched\u001b[0m \u001b[0;34m=\u001b[0m \u001b[0msadf_features\u001b[0m\u001b[0;34m.\u001b[0m\u001b[0mget_feature_data\u001b[0m\u001b[0;34m(\u001b[0m\u001b[0mdf\u001b[0m\u001b[0;34m)\u001b[0m\u001b[0;34m\u001b[0m\u001b[0m\n\u001b[0m\u001b[1;32m      2\u001b[0m \u001b[0mprint\u001b[0m\u001b[0;34m(\u001b[0m\u001b[0msadf_enriched\u001b[0m\u001b[0;34m.\u001b[0m\u001b[0mtail\u001b[0m\u001b[0;34m(\u001b[0m\u001b[0;36m2\u001b[0m\u001b[0;34m)\u001b[0m\u001b[0;34m)\u001b[0m\u001b[0;34m\u001b[0m\u001b[0m\n",
      "\u001b[0;32m<ipython-input-8-8b65c55744d4>\u001b[0m in \u001b[0;36mget_feature_data\u001b[0;34m(self, data_df)\u001b[0m\n\u001b[1;32m     24\u001b[0m         \u001b[0;34m:\u001b[0m\u001b[0;32mreturn\u001b[0m\u001b[0;34m:\u001b[0m\u001b[0;34m\u001b[0m\u001b[0m\n\u001b[1;32m     25\u001b[0m         \"\"\"\n\u001b[0;32m---> 26\u001b[0;31m         feature_generator = FeatureGenerator(self.interval_type,\n\u001b[0m\u001b[1;32m     27\u001b[0m                                              \u001b[0mself\u001b[0m\u001b[0;34m.\u001b[0m\u001b[0minterval_size\u001b[0m\u001b[0;34m,\u001b[0m\u001b[0;34m\u001b[0m\u001b[0m\n\u001b[1;32m     28\u001b[0m                                              self.features_to_calculate)\n",
      "\u001b[0;31mNameError\u001b[0m: name 'FeatureGenerator' is not defined"
     ]
    }
   ],
   "source": [
    "sadf_enriched = sadf_features.get_feature_data(df)\n",
    "print(sadf_enriched.tail(2))"
   ]
  },
  {
   "cell_type": "code",
   "execution_count": null,
   "metadata": {},
   "outputs": [],
   "source": [
    "#I do not have the code for the Feature Generator so there is an error and the code is unable to run."
   ]
  },
  {
   "cell_type": "code",
   "execution_count": 25,
   "metadata": {},
   "outputs": [
    {
     "ename": "NameError",
     "evalue": "name 'sadf_enriched' is not defined",
     "output_type": "error",
     "traceback": [
      "\u001b[0;31m---------------------------------------------------------------------------\u001b[0m",
      "\u001b[0;31mNameError\u001b[0m                                 Traceback (most recent call last)",
      "\u001b[0;32m<ipython-input-25-13abe12f9f11>\u001b[0m in \u001b[0;36m<module>\u001b[0;34m()\u001b[0m\n\u001b[1;32m      1\u001b[0m \u001b[0mfig\u001b[0m\u001b[0;34m,\u001b[0m \u001b[0max\u001b[0m \u001b[0;34m=\u001b[0m \u001b[0mplt\u001b[0m\u001b[0;34m.\u001b[0m\u001b[0msubplots\u001b[0m\u001b[0;34m(\u001b[0m\u001b[0mfigsize\u001b[0m\u001b[0;34m=\u001b[0m\u001b[0;34m(\u001b[0m\u001b[0;36m16\u001b[0m\u001b[0;34m,\u001b[0m\u001b[0;36m9\u001b[0m\u001b[0;34m)\u001b[0m\u001b[0;34m)\u001b[0m\u001b[0;34m\u001b[0m\u001b[0m\n\u001b[0;32m----> 2\u001b[0;31m \u001b[0msadf_enriched\u001b[0m\u001b[0;34m[\u001b[0m\u001b[0;34m'close'\u001b[0m\u001b[0;34m]\u001b[0m\u001b[0;34m.\u001b[0m\u001b[0mplot\u001b[0m\u001b[0;34m(\u001b[0m\u001b[0max\u001b[0m\u001b[0;34m=\u001b[0m\u001b[0max\u001b[0m\u001b[0;34m,\u001b[0m \u001b[0mstyle\u001b[0m\u001b[0;34m=\u001b[0m\u001b[0;34m'b-'\u001b[0m\u001b[0;34m,\u001b[0m \u001b[0mlegend\u001b[0m\u001b[0;34m=\u001b[0m\u001b[0;32mTrue\u001b[0m\u001b[0;34m)\u001b[0m\u001b[0;34m\u001b[0m\u001b[0m\n\u001b[0m\u001b[1;32m      3\u001b[0m \u001b[0msadf_enriched\u001b[0m\u001b[0;34m[\u001b[0m\u001b[0;34m'2_sadf_test'\u001b[0m\u001b[0;34m]\u001b[0m\u001b[0;34m.\u001b[0m\u001b[0mplot\u001b[0m\u001b[0;34m(\u001b[0m\u001b[0max\u001b[0m\u001b[0;34m=\u001b[0m\u001b[0max\u001b[0m\u001b[0;34m,\u001b[0m \u001b[0mstyle\u001b[0m\u001b[0;34m=\u001b[0m\u001b[0;34m'ro'\u001b[0m\u001b[0;34m,\u001b[0m \u001b[0msecondary_y\u001b[0m\u001b[0;34m=\u001b[0m\u001b[0;32mTrue\u001b[0m\u001b[0;34m,\u001b[0m \u001b[0mlegend\u001b[0m\u001b[0;34m=\u001b[0m\u001b[0;32mTrue\u001b[0m\u001b[0;34m)\u001b[0m\u001b[0;34m\u001b[0m\u001b[0m\n",
      "\u001b[0;31mNameError\u001b[0m: name 'sadf_enriched' is not defined"
     ]
    },
    {
     "data": {
      "image/png": "[encoded data removed]",
      "text/plain": [
       "<Figure size 1152x648 with 1 Axes>"
      ]
     },
     "metadata": {},
     "output_type": "display_data"
    }
   ],
   "source": [
    "fig, ax = plt.subplots(figsize=(16,9))\n",
    "sadf_enriched['close'].plot(ax=ax, style='b-', legend=True)\n",
    "sadf_enriched['2_sadf_test'].plot(ax=ax, style='ro', secondary_y=True, legend=True)"
   ]
  },
  {
   "cell_type": "code",
   "execution_count": null,
   "metadata": {},
   "outputs": [],
   "source": [
    "fig, ax = plt.subplots(figsize=(16,9))\n",
    "sadf_enriched['close'].plot(ax=ax, style='b-', legend=True)\n",
    "sadf_enriched['4_sadf_test'].plot(ax=ax, style='ro', secondary_y=True, legend=True)"
   ]
  },
  {
   "cell_type": "code",
   "execution_count": null,
   "metadata": {},
   "outputs": [],
   "source": [
    "fig, ax = plt.subplots(figsize=(16,9))\n",
    "sadf_enriched['close'].plot(ax=ax, style='b-', legend=True)\n",
    "sadf_enriched['8_sadf_test'].plot(ax=ax, style='ro', secondary_y=True, legend=True)"
   ]
  },
  {
   "cell_type": "code",
   "execution_count": null,
   "metadata": {},
   "outputs": [],
   "source": [
    "fig, ax = plt.subplots(figsize=(16,9))\n",
    "sadf_enriched['close'].plot(ax=ax, style='b-', legend=True)\n",
    "sadf_enriched['16_sadf_test'].plot(ax=ax, style='ro', secondary_y=True, legend=True)"
   ]
  },
  {
   "cell_type": "code",
   "execution_count": null,
   "metadata": {},
   "outputs": [],
   "source": [
    "fig, ax = plt.subplots(figsize=(16,9))\n",
    "sadf_enriched['close'].plot(ax=ax, style='b-', legend=True)\n",
    "sadf_enriched['32_sadf_test'].plot(ax=ax, style='ro', secondary_y=True, legend=True)"
   ]
  },
  {
   "cell_type": "code",
   "execution_count": null,
   "metadata": {},
   "outputs": [],
   "source": [
    "fig, ax = plt.subplots(figsize=(16,9))\n",
    "sadf_enriched['close'].plot(ax=ax, style='b-', legend=True)\n",
    "sadf_enriched['64_sadf_test'].plot(ax=ax, style='ro', secondary_y=True, legend=True)"
   ]
  },
  {
   "cell_type": "code",
   "execution_count": null,
   "metadata": {},
   "outputs": [],
   "source": [
    "fig, ax = plt.subplots(figsize=(16,9))\n",
    "sadf_enriched['close'].plot(ax=ax, style='b-', legend=True)\n",
    "sadf_enriched['128_sadf_test'].plot(ax=ax, style='ro', secondary_y=True, legend=True)"
   ]
  },
  {
   "cell_type": "code",
   "execution_count": null,
   "metadata": {},
   "outputs": [],
   "source": [
    "fig, ax = plt.subplots(figsize=(16,9))\n",
    "sadf_enriched['close'].plot(ax=ax, style='b-', legend=True)\n",
    "sadf_enriched['256_sadf_test'].plot(ax=ax, style='ro', secondary_y=True, legend=True)"
   ]
  },
  {
   "cell_type": "code",
   "execution_count": null,
   "metadata": {},
   "outputs": [],
   "source": [
    "fig, ax = plt.subplots(figsize=(16,9))\n",
    "sadf_enriched['close'].plot(ax=ax, style='b-', legend=True)\n",
    "sadf_enriched['512_sadf_test'].plot(ax=ax, style='ro', secondary_y=True, legend=True)"
   ]
  },
  {
   "cell_type": "code",
   "execution_count": null,
   "metadata": {},
   "outputs": [],
   "source": [
    "fig, ax = plt.subplots(figsize=(16,9))\n",
    "sadf_enriched['close'].plot(ax=ax, style='b-', legend=True)\n",
    "sadf_enriched['1024_sadf_test'].plot(ax=ax, style='ro', secondary_y=True, legend=True)"
   ]
  },
  {
   "cell_type": "code",
   "execution_count": null,
   "metadata": {},
   "outputs": [],
   "source": []
  }
 ],
 "metadata": {
  "kernelspec": {
   "display_name": "Python 3",
   "language": "python",
   "name": "python3"
  },
  "language_info": {
   "codemirror_mode": {
    "name": "ipython",
    "version": 3
   },
   "file_extension": ".py",
   "mimetype": "text/x-python",
   "name": "python",
   "nbconvert_exporter": "python",
   "pygments_lexer": "ipython3",
   "version": "3.6.5"
  }
 },
 "nbformat": 4,
 "nbformat_minor": 2
}
