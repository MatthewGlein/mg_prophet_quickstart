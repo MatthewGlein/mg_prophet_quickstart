{
 "cells": [
  {
   "cell_type": "code",
   "execution_count": 1,
   "metadata": {},
   "outputs": [],
   "source": [
    "%matplotlib inline"
   ]
  },
  {
   "cell_type": "code",
   "execution_count": 2,
   "metadata": {},
   "outputs": [],
   "source": [
    "import os, sys"
   ]
  },
  {
   "cell_type": "code",
   "execution_count": 3,
   "metadata": {},
   "outputs": [],
   "source": [
    "import pandas as pd\n",
    "import numpy as np\n",
    "from fbprophet import Prophet\n",
    "import matplotlib.pyplot as plt\n",
    "from fbprophet.plot import add_changepoints_to_plot\n",
    "from datetime import timedelta"
   ]
  },
  {
   "cell_type": "code",
   "execution_count": 4,
   "metadata": {},
   "outputs": [],
   "source": [
    "import functools\n",
    "\n",
    "import numpy as np\n",
    "import pandas as pd\n",
    "from statsmodels.tsa.stattools import adfuller\n",
    "\n",
    "\n",
    "class SadfTest:\n",
    "    \"\"\" Suppremum-Augmented Dickey Fuller Test\n",
    "    TODO: Implment quantile and conditional SADF test features described in de Prado.\n",
    "    Ref: de Prado Section 17.3.2\n",
    "    http://www.statsmodels.org/dev/generated/statsmodels.tsa.stattools.adfuller.html\n",
    "    \"\"\"\n",
    "    def __init__(self, ticks_required, minimum_sample_length_perc=0.5):\n",
    "        self.ticks_required = ticks_required\n",
    "        # out name should uniquely identify the feature with all its args\n",
    "        self.output_column_names = [\n",
    "            '{0}_sadf_test'.format(self.ticks_required)]\n",
    "\n",
    "        self.minimum_sample_length = int(ticks_required\n",
    "                                         * minimum_sample_length_perc)\n",
    "        assert self.minimum_sample_length <= ticks_required\n",
    "        # TODO: Investigate how the number of lags effects the result\n",
    "        self.lag_order = 1\n",
    "        self.minimum_sample_length = int(ticks_required\n",
    "                                         * minimum_sample_length_perc)\n",
    "        self.minimum_sample_length = max(self.minimum_sample_length,\n",
    "                                         self.lag_order + 1)\n",
    "\n",
    "\n",
    "\n",
    "        def compute_sdaf_stat(x):\n",
    "            def adf(s_idx):\n",
    "                # TODO: Investigate the effect of adding time trend to the specification.\n",
    "                return adfuller(x[s_idx:], maxlag=self.lag_order,\n",
    "                                autolag=None)[0]\n",
    "            start_points = range(0, len(x) - self.minimum_sample_length)\n",
    "            # TODO: This can perhaps be sped up using Pandas expanding windows and apply function.\n",
    "            return functools.reduce(max, map(adf, start_points))\n",
    "\n",
    "        buffer = pd.Series(data=np.empty(self.ticks_required))\n",
    "\n",
    "        def compute_sdaf_stat_vec(x):\n",
    "            \"\"\"\n",
    "            This vectorized version is not faster.\n",
    "            \"\"\"\n",
    "            def adf(y):\n",
    "                return adfuller(y[::-1],  maxlag=self.lag_order,\n",
    "                                autolag=None)[0]\n",
    "\n",
    "            buffer.iloc[:] = x[::-1]\n",
    "            expanding = buffer.expanding(min_periods=self.minimum_sample_length)\n",
    "            return expanding.apply(adf).max()\n",
    "\n",
    "        self.compute_sdaf_stat = compute_sdaf_stat\n",
    "        # self.compute_sdaf_stat = compute_sdaf_stat_vec\n",
    "\n",
    "\n",
    "    def generate_bulk(self, reg_ticks: pd.DataFrame):\n",
    "        log_prices = np.log(reg_ticks['close'])\n",
    "        rolling = log_prices.rolling(self.ticks_required,\n",
    "                                     min_periods=self.ticks_required)\n",
    "\n",
    "        data = (\n",
    "            rolling.apply(self.compute_sdaf_stat, raw=True)\n",
    "            .values).astype(np.float)\n",
    "\n",
    "        return pd.DataFrame(index=reg_ticks.index,\n",
    "                            data=data,\n",
    "                            columns=self.output_column_names)\n"
   ]
  },
  {
   "cell_type": "code",
   "execution_count": 5,
   "metadata": {},
   "outputs": [],
   "source": [
    "import requests\n",
    "\n",
    "POLONIEX_OHLCV_BASEURL = 'https://poloniex.com/public?command=returnChartData&currencyPair='\n",
    "\n",
    "\"\"\"\n",
    "https://poloniex.com/public?command=returnChartData&currencyPair=BTC_POT&start=1435699200&end=9999999999&period=14400\n",
    "\n",
    "\"\"\"\n",
    "\n",
    "def get_ohlcv_poloniex(pair='USDT_BTC', start=1435699200, end=9999999999, period=900):\n",
    "    \"\"\"\n",
    "    returns ohlcv data for poloniex as pandas dataframe\n",
    "    convert to unix timestamp using https://coderstoolbox.net/unixtimestamp/\n",
    "    :param pair: str pair on poloniex\n",
    "    :param start: int unix timestamp of beginning time\n",
    "    :param end: int unix timestamp of ending time\n",
    "    :param period: int candle width in seconds\n",
    "    :return: pandas df of ohlcv data from poloniex for specified pair, times, and period\n",
    "    \"\"\"\n",
    "    query = POLONIEX_OHLCV_BASEURL + pair + '&start=' + str(start) + '&end=' + str(end) + '&period=' + str(period)\n",
    "    resp = requests.get(query,verify=False)\n",
    "\n",
    "    if resp.status_code != 200:\n",
    "        raise requests.ApiError('GET /tasks/ {}'.format(resp.status_code))\n",
    "\n",
    "    return pd.DataFrame(resp.json())"
   ]
  },
  {
   "cell_type": "code",
   "execution_count": 6,
   "metadata": {},
   "outputs": [
    {
     "name": "stderr",
     "output_type": "stream",
     "text": [
      "/anaconda3/lib/python3.6/site-packages/urllib3/connectionpool.py:858: InsecureRequestWarning: Unverified HTTPS request is being made. Adding certificate verification is strongly advised. See: https://urllib3.readthedocs.io/en/latest/advanced-usage.html#ssl-warnings\n",
      "  InsecureRequestWarning)\n"
     ]
    }
   ],
   "source": [
    "df = get_ohlcv_poloniex(pair='USDT_BTC', start=1483600958, end=9999999999, period=900)\n",
    "#no option to pass in 3600 sec candles\n",
    "#df = df[df.index % 4 == 0]\n",
    "#df['ds'] = pd.to_datetime(df['date'], unit='s')\n",
    "#df['y'] = df['volume']\n",
    "#df['logVolume'] = df['volume'].apply(np.log)"
   ]
  },
  {
   "cell_type": "code",
   "execution_count": 7,
   "metadata": {},
   "outputs": [
    {
     "data": {
      "text/html": [
       "<div>\n",
       "<style scoped>\n",
       "    .dataframe tbody tr th:only-of-type {\n",
       "        vertical-align: middle;\n",
       "    }\n",
       "\n",
       "    .dataframe tbody tr th {\n",
       "        vertical-align: top;\n",
       "    }\n",
       "\n",
       "    .dataframe thead th {\n",
       "        text-align: right;\n",
       "    }\n",
       "</style>\n",
       "<table border=\"1\" class=\"dataframe\">\n",
       "  <thead>\n",
       "    <tr style=\"text-align: right;\">\n",
       "      <th></th>\n",
       "      <th>close</th>\n",
       "      <th>date</th>\n",
       "      <th>high</th>\n",
       "      <th>low</th>\n",
       "      <th>open</th>\n",
       "      <th>quoteVolume</th>\n",
       "      <th>volume</th>\n",
       "      <th>weightedAverage</th>\n",
       "    </tr>\n",
       "  </thead>\n",
       "  <tbody>\n",
       "    <tr>\n",
       "      <th>0</th>\n",
       "      <td>1143.999999</td>\n",
       "      <td>1483601400</td>\n",
       "      <td>1145.000000</td>\n",
       "      <td>1135.000000</td>\n",
       "      <td>1137.020000</td>\n",
       "      <td>9.170638</td>\n",
       "      <td>10475.203351</td>\n",
       "      <td>1142.254643</td>\n",
       "    </tr>\n",
       "    <tr>\n",
       "      <th>1</th>\n",
       "      <td>1146.628895</td>\n",
       "      <td>1483602300</td>\n",
       "      <td>1146.628895</td>\n",
       "      <td>1141.242295</td>\n",
       "      <td>1143.999998</td>\n",
       "      <td>21.620561</td>\n",
       "      <td>24698.210829</td>\n",
       "      <td>1142.348302</td>\n",
       "    </tr>\n",
       "    <tr>\n",
       "      <th>2</th>\n",
       "      <td>1146.628879</td>\n",
       "      <td>1483603200</td>\n",
       "      <td>1148.561412</td>\n",
       "      <td>1142.000000</td>\n",
       "      <td>1146.628895</td>\n",
       "      <td>21.086122</td>\n",
       "      <td>24164.714141</td>\n",
       "      <td>1146.000865</td>\n",
       "    </tr>\n",
       "    <tr>\n",
       "      <th>3</th>\n",
       "      <td>1124.500000</td>\n",
       "      <td>1483604100</td>\n",
       "      <td>1148.799997</td>\n",
       "      <td>1120.000000</td>\n",
       "      <td>1142.000000</td>\n",
       "      <td>98.798854</td>\n",
       "      <td>111593.901661</td>\n",
       "      <td>1129.506029</td>\n",
       "    </tr>\n",
       "    <tr>\n",
       "      <th>4</th>\n",
       "      <td>1136.000000</td>\n",
       "      <td>1483605000</td>\n",
       "      <td>1136.000000</td>\n",
       "      <td>1124.018000</td>\n",
       "      <td>1124.500000</td>\n",
       "      <td>23.515077</td>\n",
       "      <td>26504.327610</td>\n",
       "      <td>1127.120601</td>\n",
       "    </tr>\n",
       "  </tbody>\n",
       "</table>\n",
       "</div>"
      ],
      "text/plain": [
       "         close        date         high          low         open  \\\n",
       "0  1143.999999  1483601400  1145.000000  1135.000000  1137.020000   \n",
       "1  1146.628895  1483602300  1146.628895  1141.242295  1143.999998   \n",
       "2  1146.628879  1483603200  1148.561412  1142.000000  1146.628895   \n",
       "3  1124.500000  1483604100  1148.799997  1120.000000  1142.000000   \n",
       "4  1136.000000  1483605000  1136.000000  1124.018000  1124.500000   \n",
       "\n",
       "   quoteVolume         volume  weightedAverage  \n",
       "0     9.170638   10475.203351      1142.254643  \n",
       "1    21.620561   24698.210829      1142.348302  \n",
       "2    21.086122   24164.714141      1146.000865  \n",
       "3    98.798854  111593.901661      1129.506029  \n",
       "4    23.515077   26504.327610      1127.120601  "
      ]
     },
     "execution_count": 7,
     "metadata": {},
     "output_type": "execute_result"
    }
   ],
   "source": [
    "df.head()"
   ]
  },
  {
   "cell_type": "code",
   "execution_count": 8,
   "metadata": {},
   "outputs": [
    {
     "data": {
      "text/plain": [
       "(-1.6042282690773315,\n",
       " 0.4814691504284815,\n",
       " 59,\n",
       " 61729,\n",
       " {'1%': -3.4304559400273997,\n",
       "  '5%': -2.86158682351246,\n",
       "  '10%': -2.5667949225729454},\n",
       " 660093.4817022945)"
      ]
     },
     "execution_count": 8,
     "metadata": {},
     "output_type": "execute_result"
    }
   ],
   "source": [
    "adfuller(df.close, maxlag=None, regression='c', autolag='AIC', store=False, regresults=False)"
   ]
  },
  {
   "cell_type": "code",
   "execution_count": 9,
   "metadata": {},
   "outputs": [],
   "source": [
    "sadf = SadfTest(128)"
   ]
  },
  {
   "cell_type": "code",
   "execution_count": null,
   "metadata": {
    "scrolled": true
   },
   "outputs": [],
   "source": [
    "sadf.compute_sdaf_stat(df.close)"
   ]
  },
  {
   "cell_type": "code",
   "execution_count": null,
   "metadata": {},
   "outputs": [],
   "source": [
    "bulk = sadf.generate_bulk(df)\n",
    "bulk.dropna();"
   ]
  },
  {
   "cell_type": "code",
   "execution_count": null,
   "metadata": {},
   "outputs": [],
   "source": [
    "print(bulk)"
   ]
  },
  {
   "cell_type": "code",
   "execution_count": null,
   "metadata": {},
   "outputs": [],
   "source": [
    "sadf_features = StructuralBreakFeatures([\n",
    "    ('sadf_test', 2),     # 128 day lookback SADF\n",
    "    ('sadf_test', 4),     # 128 day lookback SADF\n",
    "    ('sadf_test', 8),     # 128 day lookback SADF\n",
    "    ('sadf_test', 16),     # 128 day lookback SADF\n",
    "    ('sadf_test', 32),     # 128 day lookback SADF\n",
    "    ('sadf_test', 64),     # 128 day lookback SADF\n",
    "    ('sadf_test', 128),     # 128 day lookback SADF\n",
    "    ('sadf_test', 256),     # 256 day lookback SADF\n",
    "    ('sadf_test', 512),     # 512 day lookback SADF\n",
    "    ('sadf_test', 1024),     # 512 day lookback SADF\n",
    "])"
   ]
  },
  {
   "cell_type": "code",
   "execution_count": null,
   "metadata": {},
   "outputs": [],
   "source": [
    "sadf_enriched = sadf_features.get_feature_data(df)\n",
    "print(sadf_enriched.tail(2))"
   ]
  },
  {
   "cell_type": "code",
   "execution_count": null,
   "metadata": {},
   "outputs": [],
   "source": [
    "#I do not have the code for the Feature Generator so there is an error and the code is unable to run."
   ]
  },
  {
   "cell_type": "code",
   "execution_count": null,
   "metadata": {},
   "outputs": [],
   "source": [
    "fig, ax = plt.subplots(figsize=(16,9))\n",
    "sadf_enriched['close'].plot(ax=ax, style='b-', legend=True)\n",
    "sadf_enriched['2_sadf_test'].plot(ax=ax, style='ro', secondary_y=True, legend=True)"
   ]
  },
  {
   "cell_type": "code",
   "execution_count": null,
   "metadata": {},
   "outputs": [],
   "source": [
    "fig, ax = plt.subplots(figsize=(16,9))\n",
    "sadf_enriched['close'].plot(ax=ax, style='b-', legend=True)\n",
    "sadf_enriched['4_sadf_test'].plot(ax=ax, style='ro', secondary_y=True, legend=True)"
   ]
  },
  {
   "cell_type": "code",
   "execution_count": null,
   "metadata": {},
   "outputs": [],
   "source": [
    "fig, ax = plt.subplots(figsize=(16,9))\n",
    "sadf_enriched['close'].plot(ax=ax, style='b-', legend=True)\n",
    "sadf_enriched['8_sadf_test'].plot(ax=ax, style='ro', secondary_y=True, legend=True)"
   ]
  },
  {
   "cell_type": "code",
   "execution_count": null,
   "metadata": {},
   "outputs": [],
   "source": [
    "fig, ax = plt.subplots(figsize=(16,9))\n",
    "sadf_enriched['close'].plot(ax=ax, style='b-', legend=True)\n",
    "sadf_enriched['16_sadf_test'].plot(ax=ax, style='ro', secondary_y=True, legend=True)"
   ]
  },
  {
   "cell_type": "code",
   "execution_count": null,
   "metadata": {},
   "outputs": [],
   "source": [
    "fig, ax = plt.subplots(figsize=(16,9))\n",
    "sadf_enriched['close'].plot(ax=ax, style='b-', legend=True)\n",
    "sadf_enriched['32_sadf_test'].plot(ax=ax, style='ro', secondary_y=True, legend=True)"
   ]
  },
  {
   "cell_type": "code",
   "execution_count": null,
   "metadata": {},
   "outputs": [],
   "source": [
    "fig, ax = plt.subplots(figsize=(16,9))\n",
    "sadf_enriched['close'].plot(ax=ax, style='b-', legend=True)\n",
    "sadf_enriched['64_sadf_test'].plot(ax=ax, style='ro', secondary_y=True, legend=True)"
   ]
  },
  {
   "cell_type": "code",
   "execution_count": null,
   "metadata": {},
   "outputs": [],
   "source": [
    "fig, ax = plt.subplots(figsize=(16,9))\n",
    "sadf_enriched['close'].plot(ax=ax, style='b-', legend=True)\n",
    "sadf_enriched['128_sadf_test'].plot(ax=ax, style='ro', secondary_y=True, legend=True)"
   ]
  },
  {
   "cell_type": "code",
   "execution_count": null,
   "metadata": {},
   "outputs": [],
   "source": [
    "fig, ax = plt.subplots(figsize=(16,9))\n",
    "sadf_enriched['close'].plot(ax=ax, style='b-', legend=True)\n",
    "sadf_enriched['256_sadf_test'].plot(ax=ax, style='ro', secondary_y=True, legend=True)"
   ]
  },
  {
   "cell_type": "code",
   "execution_count": null,
   "metadata": {},
   "outputs": [],
   "source": [
    "fig, ax = plt.subplots(figsize=(16,9))\n",
    "sadf_enriched['close'].plot(ax=ax, style='b-', legend=True)\n",
    "sadf_enriched['512_sadf_test'].plot(ax=ax, style='ro', secondary_y=True, legend=True)"
   ]
  },
  {
   "cell_type": "code",
   "execution_count": null,
   "metadata": {},
   "outputs": [],
   "source": [
    "fig, ax = plt.subplots(figsize=(16,9))\n",
    "sadf_enriched['close'].plot(ax=ax, style='b-', legend=True)\n",
    "sadf_enriched['1024_sadf_test'].plot(ax=ax, style='ro', secondary_y=True, legend=True)"
   ]
  },
  {
   "cell_type": "code",
   "execution_count": null,
   "metadata": {},
   "outputs": [],
   "source": []
  }
 ],
 "metadata": {
  "kernelspec": {
   "display_name": "Python 3",
   "language": "python",
   "name": "python3"
  },
  "language_info": {
   "codemirror_mode": {
    "name": "ipython",
    "version": 3
   },
   "file_extension": ".py",
   "mimetype": "text/x-python",
   "name": "python",
   "nbconvert_exporter": "python",
   "pygments_lexer": "ipython3",
   "version": "3.6.5"
  }
 },
 "nbformat": 4,
 "nbformat_minor": 2
}
